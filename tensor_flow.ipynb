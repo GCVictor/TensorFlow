{
 "cells": [
  {
   "cell_type": "code",
   "execution_count": 8,
   "metadata": {},
   "outputs": [],
   "source": [
    "import os\n",
    "import tensorflow as tf"
   ]
  },
  {
   "cell_type": "code",
   "execution_count": 11,
   "metadata": {
    "collapsed": true
   },
   "outputs": [
    {
     "ename": "NameError",
     "evalue": "name '__file__' is not defined",
     "output_type": "error",
     "traceback": [
      "\u001b[1;31m---------------------------------------------------------------------------\u001b[0m",
      "\u001b[1;31mNameError\u001b[0m                                 Traceback (most recent call last)",
      "\u001b[1;32m<ipython-input-11-f2236ddc2e87>\u001b[0m in \u001b[0;36m<module>\u001b[1;34m\u001b[0m\n\u001b[0;32m      1\u001b[0m \u001b[1;31m# The default path for saving event files is the same folder of this python file.\u001b[0m\u001b[1;33m\u001b[0m\u001b[1;33m\u001b[0m\u001b[1;33m\u001b[0m\u001b[0m\n\u001b[1;32m----> 2\u001b[1;33m tf.app.flags.DEFINE_string('log_directory', os.path.dirname(os.path.abspath(__file__)) + '/logs', \n\u001b[0m\u001b[0;32m      3\u001b[0m                            'Directory where event logs are written to.')\n\u001b[0;32m      4\u001b[0m \u001b[1;33m\u001b[0m\u001b[0m\n\u001b[0;32m      5\u001b[0m \u001b[1;31m# Store all elements in FLAG structure!\u001b[0m\u001b[1;33m\u001b[0m\u001b[1;33m\u001b[0m\u001b[1;33m\u001b[0m\u001b[0m\n",
      "\u001b[1;31mNameError\u001b[0m: name '__file__' is not defined"
     ]
    }
   ],
   "source": [
    "# The default path for saving event files is the same folder of this python file.\n",
    "tf.app.flags.DEFINE_string('log_directory', os.path.dirname(os.path.abspath(__file__)) + '/logs', \n",
    "                           'Directory where event logs are written to.')\n",
    "\n",
    "# Store all elements in FLAG structure!\n",
    "FLAGS = tf.app.flags.FLAGS"
   ]
  },
  {
   "cell_type": "code",
   "execution_count": 13,
   "metadata": {},
   "outputs": [],
   "source": [
    "# Defining some constant values\n",
    "a = tf.constant(5.0, name='a')\n",
    "b = tf.constant(10.0, name='b')\n",
    "\n",
    "# Some basic operations\n",
    "x = tf.add(a, b, name='add')\n",
    "y = tf.math.divide(a, b, name='divide')"
   ]
  },
  {
   "cell_type": "code",
   "execution_count": 20,
   "metadata": {},
   "outputs": [
    {
     "name": "stdout",
     "output_type": "stream",
     "text": [
      "a =  5.0\n",
      "b =  10.0\n",
      "a + b = 15.0\n",
      "a / b =  0.5\n"
     ]
    }
   ],
   "source": [
    "# session, which is the environment for running the operations\n",
    "# Run the session\n",
    "with tf.Session() as sess:\n",
    "    print(\"a = \", sess.run(a))\n",
    "    print(\"b = \", sess.run(b))\n",
    "    print(\"a + b =\", sess.run(x))\n",
    "    print(\"a / b = \", sess.run(y))\n",
    "\n",
    "# Closing the session\n",
    "sess.close()"
   ]
  },
  {
   "cell_type": "code",
   "execution_count": 29,
   "metadata": {},
   "outputs": [
    {
     "name": "stdout",
     "output_type": "stream",
     "text": [
      "<class 'tensorflow.python.ops.variables.RefVariable'>\n"
     ]
    }
   ],
   "source": [
    "from tensorflow.python.framework import ops\n",
    "## This code create some arbitrary variables and initialize them ##\n",
    "# The goal is to show how to define and initialize variables from scratch.\n",
    "################################\n",
    "# Defining Variables\n",
    "################################\n",
    "\n",
    "# Create three variables with some default values.\n",
    "weights = tf.Variable(tf.random_normal([2, 3], stddev=0.1), name='weights')\n",
    "biases = tf.Variable(tf.zeros([3]), name='biases')\n",
    "customer_variable = tf.Variable(tf.zeros([3]), name=\"custom\")\n",
    "print(type(customer_variable))\n",
    "\n",
    "# Get all the variables' tensors and store them in a list\n",
    "all_variables_list = ops.get_collection(ops.GraphKeys.GLOBAL_VARIABLES)\n",
    "\n",
    "# FailedPreconditionError: Attempting to use uninitialized value weights\n",
    "# with tf.Session() as sess:\n",
    "#     sess.run(all_variables_list)"
   ]
  },
  {
   "cell_type": "code",
   "execution_count": 30,
   "metadata": {},
   "outputs": [
    {
     "name": "stdout",
     "output_type": "stream",
     "text": [
      "name: \"init_2\"\n",
      "op: \"NoOp\"\n",
      "input: \"^weights_5/Assign\"\n",
      "input: \"^custom_5/Assign\"\n",
      "\n",
      "<class 'tensorflow.python.framework.ops.Operation'>\n"
     ]
    }
   ],
   "source": [
    "################################\n",
    "# Customized initializer\n",
    "################################\n",
    "\n",
    "## Initialization of some customer variables\n",
    "## In this part we choose some variables and only initialize them rather than initializing all variables.\n",
    "\n",
    "# \"variable_list_custom\" is the list of variables that we want to initialize\n",
    "variable_list_custom = [weights, customer_variable]\n",
    "\n",
    "# The initializer\n",
    "init_custom_op = tf.variables_initializer(var_list=variable_list_custom)\n",
    "print(init_custom_op)\n",
    "print(type(init_custom_op))"
   ]
  },
  {
   "cell_type": "code",
   "execution_count": 31,
   "metadata": {
    "collapsed": true
   },
   "outputs": [
    {
     "name": "stdout",
     "output_type": "stream",
     "text": [
      "name: \"init_3\"\n",
      "op: \"NoOp\"\n",
      "input: \"^weights/Assign\"\n",
      "input: \"^biases/Assign\"\n",
      "input: \"^custom/Assign\"\n",
      "input: \"^weights_1/Assign\"\n",
      "input: \"^biases_1/Assign\"\n",
      "input: \"^custom_1/Assign\"\n",
      "input: \"^weights_2/Assign\"\n",
      "input: \"^biases_2/Assign\"\n",
      "input: \"^custom_2/Assign\"\n",
      "input: \"^weights_3/Assign\"\n",
      "input: \"^biases_3/Assign\"\n",
      "input: \"^custom_3/Assign\"\n",
      "input: \"^weights_4/Assign\"\n",
      "input: \"^biases_4/Assign\"\n",
      "input: \"^custom_4/Assign\"\n",
      "input: \"^weights_5/Assign\"\n",
      "input: \"^biases_5/Assign\"\n",
      "input: \"^custom_5/Assign\"\n",
      "\n",
      "<class 'tensorflow.python.framework.ops.Operation'>\n"
     ]
    }
   ],
   "source": [
    "# Add an op to initialize the variables\n",
    "init_all_op = tf.global_variables_initializer()\n",
    "print(init_all_op)\n",
    "print(type(init_all_op))"
   ]
  },
  {
   "cell_type": "code",
   "execution_count": null,
   "metadata": {},
   "outputs": [],
   "source": [
    "################################################\n",
    "# Initialization using other variables\n",
    "################################################\n"
   ]
  },
  {
   "cell_type": "code",
   "execution_count": 32,
   "metadata": {},
   "outputs": [
    {
     "data": {
      "text/plain": [
       "'################################################'"
      ]
     },
     "execution_count": 32,
     "metadata": {},
     "output_type": "execute_result"
    }
   ],
   "source": []
  },
  {
   "cell_type": "code",
   "execution_count": null,
   "metadata": {},
   "outputs": [],
   "source": []
  },
  {
   "cell_type": "code",
   "execution_count": null,
   "metadata": {},
   "outputs": [],
   "source": []
  },
  {
   "cell_type": "code",
   "execution_count": null,
   "metadata": {},
   "outputs": [],
   "source": []
  },
  {
   "cell_type": "code",
   "execution_count": null,
   "metadata": {},
   "outputs": [],
   "source": []
  },
  {
   "cell_type": "code",
   "execution_count": null,
   "metadata": {},
   "outputs": [],
   "source": []
  },
  {
   "cell_type": "code",
   "execution_count": null,
   "metadata": {},
   "outputs": [],
   "source": []
  },
  {
   "cell_type": "code",
   "execution_count": null,
   "metadata": {},
   "outputs": [],
   "source": []
  },
  {
   "cell_type": "code",
   "execution_count": null,
   "metadata": {},
   "outputs": [],
   "source": []
  },
  {
   "cell_type": "code",
   "execution_count": null,
   "metadata": {},
   "outputs": [],
   "source": []
  },
  {
   "cell_type": "code",
   "execution_count": null,
   "metadata": {},
   "outputs": [],
   "source": []
  },
  {
   "cell_type": "code",
   "execution_count": null,
   "metadata": {},
   "outputs": [],
   "source": []
  },
  {
   "cell_type": "code",
   "execution_count": null,
   "metadata": {},
   "outputs": [],
   "source": []
  },
  {
   "cell_type": "code",
   "execution_count": null,
   "metadata": {},
   "outputs": [],
   "source": []
  },
  {
   "cell_type": "code",
   "execution_count": null,
   "metadata": {},
   "outputs": [],
   "source": []
  },
  {
   "cell_type": "code",
   "execution_count": null,
   "metadata": {},
   "outputs": [],
   "source": []
  },
  {
   "cell_type": "code",
   "execution_count": null,
   "metadata": {},
   "outputs": [],
   "source": []
  },
  {
   "cell_type": "code",
   "execution_count": null,
   "metadata": {},
   "outputs": [],
   "source": []
  },
  {
   "cell_type": "code",
   "execution_count": null,
   "metadata": {},
   "outputs": [],
   "source": []
  },
  {
   "cell_type": "code",
   "execution_count": null,
   "metadata": {},
   "outputs": [],
   "source": []
  },
  {
   "cell_type": "code",
   "execution_count": null,
   "metadata": {},
   "outputs": [],
   "source": []
  },
  {
   "cell_type": "code",
   "execution_count": null,
   "metadata": {},
   "outputs": [],
   "source": []
  },
  {
   "cell_type": "code",
   "execution_count": null,
   "metadata": {},
   "outputs": [],
   "source": []
  },
  {
   "cell_type": "code",
   "execution_count": null,
   "metadata": {},
   "outputs": [],
   "source": []
  },
  {
   "cell_type": "code",
   "execution_count": null,
   "metadata": {},
   "outputs": [],
   "source": []
  }
 ],
 "metadata": {
  "kernelspec": {
   "display_name": "Python 3",
   "language": "python",
   "name": "python3"
  },
  "language_info": {
   "codemirror_mode": {
    "name": "ipython",
    "version": 3
   },
   "file_extension": ".py",
   "mimetype": "text/x-python",
   "name": "python",
   "nbconvert_exporter": "python",
   "pygments_lexer": "ipython3",
   "version": "3.7.4"
  }
 },
 "nbformat": 4,
 "nbformat_minor": 2
}
